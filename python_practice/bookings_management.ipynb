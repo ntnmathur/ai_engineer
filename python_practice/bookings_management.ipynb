{
 "cells": [
  {
   "cell_type": "code",
   "execution_count": 2,
   "id": "a18a3b18-b233-47a1-82cc-02a5f6f5a568",
   "metadata": {},
   "outputs": [
    {
     "data": {
      "text/plain": [
       "[{'id': 180,\n",
       "  'estimated_pickup_time': 100,\n",
       "  'estimated_dropoff_time': 160,\n",
       "  'total_passengers': 3},\n",
       " {'id': 190,\n",
       "  'estimated_pickup_time': 120,\n",
       "  'estimated_dropoff_time': 170,\n",
       "  'total_passengers': 3},\n",
       " {'id': 200,\n",
       "  'estimated_pickup_time': 150,\n",
       "  'estimated_dropoff_time': 190,\n",
       "  'total_passengers': 2}]"
      ]
     },
     "execution_count": 2,
     "metadata": {},
     "output_type": "execute_result"
    }
   ],
   "source": [
    "bookings = [\n",
    "    {\n",
    "         \"id\": 180,\n",
    "         \"estimated_pickup_time\": 100, \n",
    "         \"estimated_dropoff_time\": 160,\n",
    "         \"total_passengers\": 3,\n",
    "    },\n",
    "    {\n",
    "         \"id\": 190,\n",
    "         \"estimated_pickup_time\": 120,\n",
    "         \"estimated_dropoff_time\": 170,\n",
    "         \"total_passengers\": 3,\n",
    "    },\n",
    "    {\n",
    "         \"id\": 200,\n",
    "         \"estimated_pickup_time\": 150,\n",
    "         \"estimated_dropoff_time\": 190,\n",
    "         \"total_passengers\": 2,\n",
    "    }\n",
    "]\n",
    "bookings"
   ]
  },
  {
   "cell_type": "code",
   "execution_count": 20,
   "id": "52266fd0-bab9-4e42-848b-dd1f93397099",
   "metadata": {},
   "outputs": [
    {
     "name": "stdout",
     "output_type": "stream",
     "text": [
      "Loop 1: {'id': 180, 'estimated_pickup_time': 100, 'estimated_dropoff_time': 160, 'total_passengers': 3}\n",
      "\tbookingStack: [(0, 0)]\n",
      "\tidx: 0, item: (0, 0)\n",
      "\tbookingStack: [(3, 160)], total_people: 3\n",
      "Loop 2: {'id': 190, 'estimated_pickup_time': 120, 'estimated_dropoff_time': 170, 'total_passengers': 3}\n",
      "\tbookingStack: [(3, 160)]\n",
      "\tidx: 0, item: (3, 160)\n",
      "\tbookingStack: [(3, 160), (3, 170)], total_people: 6\n",
      "Loop 3: {'id': 200, 'estimated_pickup_time': 150, 'estimated_dropoff_time': 190, 'total_passengers': 2}\n",
      "\tbookingStack: [(3, 160), (3, 170)]\n",
      "\tidx: 0, item: (3, 160)\n",
      "\tbookingStack: [(3, 160), (3, 170)]\n",
      "\tidx: 1, item: (3, 170)\n",
      "\tbookingStack: [(3, 160), (3, 170), (2, 190)], total_people: 8\n",
      "False\n"
     ]
    }
   ],
   "source": [
    "def canDriverTakePossibleBookings(vehicle_passenger_count, list_of_bookings):\n",
    "    # stack of bookings that represents who currently is in a vehicle\n",
    "    # each element is a tuple of (passengers, exit_time)\n",
    "    bookingStack = [(0, 0)]\n",
    "    total_people = 0\n",
    "    n=1\n",
    "    for booking in list_of_bookings:\n",
    "         # Iterate through current passengers in vehicle\n",
    "         print(f\"Loop {n}: {booking}\")\n",
    "         for idx, item in enumerate(bookingStack):\n",
    "              print(f\"\\tbookingStack: {bookingStack}\")\n",
    "              print(f\"\\tidx: {idx}, item: {item}\")\n",
    "              if item[1] <= booking[\"estimated_pickup_time\"]:\n",
    "              \t# New passenger enters after another one got off\n",
    "                   total_people -= item[0]\n",
    "                   del bookingStack[idx]\n",
    "         bookingStack.append((booking[\"total_passengers\"], booking[\"estimated_dropoff_time\"]))\n",
    "         total_people += booking[\"total_passengers\"]\n",
    "         print(f\"\\tbookingStack: {bookingStack}, total_people: {total_people}\")\n",
    "         # Vehicle is overfilled, and cannot support bookings\n",
    "         if total_people > vehicle_passenger_count:\n",
    "              return False\n",
    "         n+=1\n",
    "    # No errors, so list is valid\n",
    "    return True\n",
    "\n",
    "print(canDriverTakePossibleBookings(6, bookings))\n"
   ]
  },
  {
   "cell_type": "code",
   "execution_count": 22,
   "id": "acb57a68-1380-423b-bf78-54015d440f01",
   "metadata": {},
   "outputs": [
    {
     "name": "stdout",
     "output_type": "stream",
     "text": [
      "Loop 1: {'id': 180, 'estimated_pickup_time': 100, 'estimated_dropoff_time': 160, 'total_passengers': 3}\n",
      "\tbookingStack: [(0, 0)]\n",
      "\tidx: 0, item: (0, 0)\n",
      "\tbookingStack: [(3, 160)], total_people: 3\n",
      "Loop 2: {'id': 190, 'estimated_pickup_time': 120, 'estimated_dropoff_time': 180, 'total_passengers': 3}\n",
      "\tbookingStack: [(3, 160)]\n",
      "\tidx: 0, item: (3, 160)\n",
      "\tbookingStack: [(3, 160), (3, 180)], total_people: 6\n",
      "Loop 3: {'id': 200, 'estimated_pickup_time': 170, 'estimated_dropoff_time': 190, 'total_passengers': 2}\n",
      "\tbookingStack: [(3, 160), (3, 180)]\n",
      "\tidx: 0, item: (3, 160)\n",
      "\tbookingStack: [(3, 180), (2, 190)], total_people: 5\n",
      "True\n"
     ]
    }
   ],
   "source": [
    "bookings2 = [\n",
    "{\n",
    "\"id\": 180,\n",
    "\"estimated_pickup_time\": 100,\n",
    "\"estimated_dropoff_time\": 160,\n",
    "\"total_passengers\": 3,\n",
    "},\n",
    "{\n",
    "\"id\": 190,\n",
    "\"estimated_pickup_time\": 120,\n",
    "\"estimated_dropoff_time\": 180,\n",
    "\"total_passengers\": 3,\n",
    "},\n",
    "{\n",
    "\"id\": 200,\n",
    "\"estimated_pickup_time\": 170,\n",
    "\"estimated_dropoff_time\": 190,\n",
    "\"total_passengers\": 2,\n",
    "}\n",
    "]\n",
    "print(canDriverTakePossibleBookings(6, bookings2))"
   ]
  },
  {
   "cell_type": "code",
   "execution_count": null,
   "id": "24dd26b5-a9c4-4f3b-ae3e-3e1fa0e1fe43",
   "metadata": {},
   "outputs": [],
   "source": []
  }
 ],
 "metadata": {
  "kernelspec": {
   "display_name": "\"Python/Mu (mu_venv-38-20231205-120115)\"",
   "language": "python",
   "name": "mu_venv-38-20231205-120115"
  },
  "language_info": {
   "codemirror_mode": {
    "name": "ipython",
    "version": 3
   },
   "file_extension": ".py",
   "mimetype": "text/x-python",
   "name": "python",
   "nbconvert_exporter": "python",
   "pygments_lexer": "ipython3",
   "version": "3.8.12"
  }
 },
 "nbformat": 4,
 "nbformat_minor": 5
}
