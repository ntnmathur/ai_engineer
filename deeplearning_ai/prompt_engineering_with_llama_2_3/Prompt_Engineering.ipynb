{
 "cells": [
  {
   "cell_type": "code",
   "execution_count": 67,
   "id": "748b2541-b14e-405a-b35d-a9d6d357677e",
   "metadata": {},
   "outputs": [],
   "source": [
    "from llama_index.llms.ollama import Ollama\n",
    "model_name=\"llama3.1\"\n",
    "# model_name=\"llama3.2:3b\""
   ]
  },
  {
   "cell_type": "code",
   "execution_count": 68,
   "id": "08e7916b-7591-4a21-b86e-a0f950a4448f",
   "metadata": {},
   "outputs": [],
   "source": [
    "# define the prompt\n",
    "prompt = \"Help me write a birthday card for my dear friend Andrew.\""
   ]
  },
  {
   "cell_type": "code",
   "execution_count": 70,
   "id": "982391e5-1e9e-4f5f-a361-3d66f6b94597",
   "metadata": {},
   "outputs": [
    {
     "name": "stdout",
     "output_type": "stream",
     "text": [
      "Here are a few ideas to get you started:\n",
      "\n",
      "**Option 1: Simple and Sincere**\n",
      "\n",
      "\"Happy Birthday, Andrew!\n",
      "\n",
      "Wishing you a day as bright and amazing as you are. May all your dreams come true and may this special day be filled with love, laughter, and joy.\n",
      "\n",
      "Cheers to another incredible year of life! \"\n",
      "\n",
      "**Option 2: Fun and Playful**\n",
      "\n",
      "\"Happy Birthday, buddy!\n",
      "\n",
      "You're not getting older, you're just leveling up in life! Here's to another amazing year of adventures, memories, and making the world a better place. You deserve all the happiness, Andrew!\"\n",
      "\n",
      "**Option 3: Heartfelt and Emotional**\n",
      "\n",
      "\"Andrew, on your special day, I want you to know how much you mean to me. Your kindness, your sense of humor, and your generous spirit make you an incredible friend. Wishing you all the love, joy, and celebration in the world today and always!\"\n",
      "\n",
      "Which one do you like best? Or feel free to give me some hints about Andrew's personality and interests, and I'll help create a birthday card that's just right for him!\n"
     ]
    }
   ],
   "source": [
    "# pass prompt to the llama function, store output as 'response' then print\n",
    "llm = Ollama(model=model_name, request_timeout=120.0)\n",
    "response = llm.complete(prompt)\n",
    "print(response)"
   ]
  },
  {
   "cell_type": "code",
   "execution_count": 8,
   "id": "f040a3fe-0856-46e5-9e09-a085682b322e",
   "metadata": {},
   "outputs": [
    {
     "name": "stdout",
     "output_type": "stream",
     "text": [
      "Prompt: Help me write a birthday card for my dear friend Andrew.\n",
      "Response: Here are some ideas to get you started:\n",
      "\n",
      "**Option 1: Simple and Sincere**\n",
      "\n",
      "\"Happy Birthday, Andrew!\n",
      "\n",
      "Wishing you an amazing day filled with love, laughter, and all your favorite things. You deserve it! Here's to another incredible year ahead.\"\n",
      "\n",
      "**Option 2: Funny and Lighthearted**\n",
      "\n",
      "\"Happy birthday to my partner in crime, Andrew!\n",
      "\n",
      "May your special day be as awesome as you are. Can't wait to see what shenanigans we get up to this year!\"\n",
      "\n",
      "**Option 3: Heartfelt and Emotional**\n",
      "\n",
      "\"Andrew, on your birthday and every day, I'm grateful for our friendship.\n",
      "\n",
      "You bring so much joy and love into my life, and I'm honored to be a part of it. Here's to many more adventures together! \"\n",
      "\n",
      "Which one do you like best? Or feel free to mix and match to create your own unique message!\n"
     ]
    }
   ],
   "source": [
    "llm = Ollama(model=model_name, request_timeout=120.0, verbose=True)\n",
    "response = llm.complete(prompt)\n",
    "print(f\"Prompt: {prompt}\\nResponse: {response}\")"
   ]
  },
  {
   "cell_type": "code",
   "execution_count": 9,
   "id": "d5b5fbf7-3148-4a36-80eb-036605dadfd8",
   "metadata": {},
   "outputs": [
    {
     "name": "stdout",
     "output_type": "stream",
     "text": [
      "Prompt: What is the capital of France?\n",
      "Response: The capital of France is Paris. Is there anything else I can help you with?\n"
     ]
    }
   ],
   "source": [
    "prompt = \"What is the capital of France?\"\n",
    "\n",
    "llm = Ollama(model=model_name, request_timeout=120.0, verbose=True)\n",
    "response = llm.complete(prompt)\n",
    "print(f\"Prompt: {prompt}\\nResponse: {response}\")"
   ]
  },
  {
   "cell_type": "markdown",
   "id": "e471ffd5-a7e9-4562-8357-36dc9e5f9da4",
   "metadata": {},
   "source": [
    "# Temperature\n",
    "- Range 0-1\n",
    "- Temperature = 0 means that output would be deterministic/ consistent"
   ]
  },
  {
   "cell_type": "code",
   "execution_count": 17,
   "id": "c455bab2-9dc4-4168-b1fe-4525c6d28d85",
   "metadata": {},
   "outputs": [
    {
     "name": "stdout",
     "output_type": "stream",
     "text": [
      "Prompt: \n",
      "Help me write a birthday card for my dear friend Andrew.\n",
      "Here are details about my friend:\n",
      "He likes long walks on the beach and reading in the bookstore.\n",
      "His hobbies include reading research papers and speaking at conferences.\n",
      "His favorite color is light blue.\n",
      "He likes pandas.\n",
      "\n",
      "Response: Based on your description of Andrew, here's a birthday card idea:\n",
      "\n",
      "\"Happy Birthday, Andrew!\n",
      "\n",
      "Wishing you a day as calm and peaceful as a long walk on the beach. May it be filled with all your favorite things, from getting lost in a good book to learning something new at a conference.\n",
      "\n",
      "As you celebrate another year of life, I hope you get to indulge in some light blue happiness - whether that's a beautiful sky, a fun outfit, or just a moment of pure joy.\n",
      "\n",
      "And because pandas are the best, I'm sending you all the cuddles and snuggles from these adorable friends. You deserve it!\n",
      "\n",
      "Here's to another amazing year, Andrew! May it be filled with adventure, learning, and lots of love.\"\n",
      "\n",
      "Feel free to modify it as per your personal touch and relationship with Andrew!\n"
     ]
    }
   ],
   "source": [
    "\n",
    "prompt = \"\"\"\n",
    "Help me write a birthday card for my dear friend Andrew.\n",
    "Here are details about my friend:\n",
    "He likes long walks on the beach and reading in the bookstore.\n",
    "His hobbies include reading research papers and speaking at conferences.\n",
    "His favorite color is light blue.\n",
    "He likes pandas.\n",
    "\"\"\"\n",
    "llm = Ollama(model=model_name, request_timeout=120.0, verbose=True, temperature = 0.0)\n",
    "response = llm.complete(prompt)\n",
    "print(f\"Prompt: {prompt}\\nResponse: {response}\")"
   ]
  },
  {
   "cell_type": "code",
   "execution_count": 22,
   "id": "d26615e9-6ba2-4d67-90cb-160b44c9b244",
   "metadata": {},
   "outputs": [
    {
     "name": "stdout",
     "output_type": "stream",
     "text": [
      "Prompt: \n",
      "Help me write a birthday card for my dear friend Andrew.\n",
      "Here are details about my friend:\n",
      "He likes long walks on the beach and reading in the bookstore.\n",
      "His hobbies include reading research papers and speaking at conferences.\n",
      "His favorite color is light blue.\n",
      "He likes pandas.\n",
      "\n",
      "Response: Based on your description of Andrew, here's a possible birthday card message:\n",
      "\n",
      "\"Happy Birthday, Andrew!\n",
      "\n",
      "Just like the calmness and serenity you find on long walks along the beach, you bring peace and joy to those around you. Your love for learning and sharing knowledge at conferences is truly inspiring.\n",
      "\n",
      "As we celebrate another year of life, I hope your day is as bright and beautiful as your favorite light blue color. And who knows, maybe even a panda or two will join in on the fun!\n",
      "\n",
      "Wishing you all the best on your special day and looking forward to many more adventures together. Cheers, my friend!\"\n",
      "\n",
      "Feel free to modify it to fit your personal style and friendship with Andrew!\n"
     ]
    }
   ],
   "source": [
    "# run the code again - the output should be different\n",
    "llm = Ollama(model=model_name, request_timeout=120.0, verbose=True, temperature = 0.9)\n",
    "response = llm.complete(prompt)\n",
    "print(f\"Prompt: {prompt}\\nResponse: {response}\")"
   ]
  },
  {
   "cell_type": "markdown",
   "id": "eea071d5-2338-47fb-b46d-f88a1915b241",
   "metadata": {},
   "source": [
    "# Change max tokens\n",
    "- Default 1024 tokens\n",
    "- Roughly 1 token = 3/4 of a word. So 1024 tokens ~ 768 words\n",
    "- Decreasing max tokens will decrease the length of the ouput"
   ]
  },
  {
   "cell_type": "code",
   "execution_count": 59,
   "id": "6511d56b-e7c5-4112-a64a-316a1421f154",
   "metadata": {},
   "outputs": [
    {
     "name": "stdout",
     "output_type": "stream",
     "text": [
      "content='Here\\'s a possible birthday card message for your friend Andrew:\\n\\n\"Happy Birthday, Andrew!\\n\\nWishing you a day as calm and peaceful as a long walk on the beach (but with better book deals, of course!). May your love for reading research papers and sharing insights at conferences continue to inspire and challenge you. And who knows, maybe this year\\'s birthday wish comes true – a panda sighting at the zoo!\\n\\nCheers to another amazing year of learning, growing, and spreading knowledge. You deserve it! Have a wonderful birthday, Andrew.\"\\n\\nFeel free to modify or add anything that suits your personal style and friendship with Andrew.' additional_kwargs={} response_metadata={'model': 'llama3.1', 'created_at': '2024-09-27T07:30:04.934831Z', 'message': {'role': 'assistant', 'content': ''}, 'done_reason': 'stop', 'done': True, 'total_duration': 4180760875, 'load_duration': 33351916, 'prompt_eval_count': 122, 'prompt_eval_duration': 216689000, 'eval_count': 126, 'eval_duration': 3929526000} id='run-07f92296-7a81-48e4-b7bd-eb3c8fee2216-0' usage_metadata={'input_tokens': 122, 'output_tokens': 126, 'total_tokens': 248}\n",
      "Here's a possible birthday card message for your friend Andrew:\n",
      "\n",
      "\"Happy Birthday, Andrew!\n",
      "\n",
      "Wishing you a day as calm and peaceful as a long walk on the beach (but with better book deals, of course!). May your love for reading research papers and sharing insights at conferences continue to inspire and challenge you. And who knows, maybe this year's birthday wish comes true – a panda sighting at the zoo!\n",
      "\n",
      "Cheers to another amazing year of learning, growing, and spreading knowledge. You deserve it! Have a wonderful birthday, Andrew.\"\n",
      "\n",
      "Feel free to modify or add anything that suits your personal style and friendship with Andrew.\n"
     ]
    }
   ],
   "source": [
    "# Tokens. Also switching to Langchain to pass the parameters\n",
    "\n",
    "from langchain_ollama import ChatOllama\n",
    "prompt = \"\"\"\n",
    "Help me write a birthday card for my dear friend Andrew.\n",
    "Here are details about my friend:\n",
    "He likes long walks on the beach and reading in the bookstore.\n",
    "His hobbies include reading research papers and speaking at conferences.\n",
    "His favorite color is light blue.\n",
    "He likes pandas.\n",
    "\"\"\"\n",
    "llm = ChatOllama(\n",
    "    model=\"llama3.1\",\n",
    "    temperature=0.9,\n",
    "    total_tokens=5000,\n",
    "    max_tokens=1000  # Add this line to set the max_tokens parameter\n",
    ")\n",
    "from langchain_core.messages import AIMessage\n",
    "\n",
    "messages = [\n",
    "    (\n",
    "        \"system\",\n",
    "        prompt,\n",
    "    ),\n",
    "]\n",
    "ai_msg = llm.invoke(messages)\n",
    "print(ai_msg)\n",
    "print(ai_msg.content)"
   ]
  },
  {
   "cell_type": "code",
   "execution_count": 61,
   "id": "31003615-f229-47f4-9476-da52a844e32b",
   "metadata": {},
   "outputs": [
    {
     "ename": "UnicodeDecodeError",
     "evalue": "'utf-8' codec can't decode byte 0xe2 in position 10: invalid continuation byte",
     "output_type": "error",
     "traceback": [
      "\u001b[0;31m---------------------------------------------------------------------------\u001b[0m",
      "\u001b[0;31mUnicodeDecodeError\u001b[0m                        Traceback (most recent call last)",
      "Cell \u001b[0;32mIn[61], line 3\u001b[0m\n\u001b[1;32m      1\u001b[0m \u001b[38;5;66;03m# Read a file and summarize it\u001b[39;00m\n\u001b[1;32m      2\u001b[0m \u001b[38;5;28;01mwith\u001b[39;00m \u001b[38;5;28mopen\u001b[39m(\u001b[38;5;124m\"\u001b[39m\u001b[38;5;124m/Users/ntnmathur/Library/CloudStorage/OneDrive-Personal/Books/Sri_Aurbindo_Books/02CollectedPoems.pdf\u001b[39m\u001b[38;5;124m\"\u001b[39m, \u001b[38;5;124m\"\u001b[39m\u001b[38;5;124mr\u001b[39m\u001b[38;5;124m\"\u001b[39m, ) \u001b[38;5;28;01mas\u001b[39;00m file:\n\u001b[0;32m----> 3\u001b[0m     text \u001b[38;5;241m=\u001b[39m \u001b[43mfile\u001b[49m\u001b[38;5;241;43m.\u001b[39;49m\u001b[43mread\u001b[49m\u001b[43m(\u001b[49m\u001b[43m)\u001b[49m\n",
      "File \u001b[0;32m/opt/homebrew/Cellar/python@3.12/3.12.6/Frameworks/Python.framework/Versions/3.12/lib/python3.12/codecs.py:322\u001b[0m, in \u001b[0;36mBufferedIncrementalDecoder.decode\u001b[0;34m(self, input, final)\u001b[0m\n\u001b[1;32m    319\u001b[0m \u001b[38;5;28;01mdef\u001b[39;00m \u001b[38;5;21mdecode\u001b[39m(\u001b[38;5;28mself\u001b[39m, \u001b[38;5;28minput\u001b[39m, final\u001b[38;5;241m=\u001b[39m\u001b[38;5;28;01mFalse\u001b[39;00m):\n\u001b[1;32m    320\u001b[0m     \u001b[38;5;66;03m# decode input (taking the buffer into account)\u001b[39;00m\n\u001b[1;32m    321\u001b[0m     data \u001b[38;5;241m=\u001b[39m \u001b[38;5;28mself\u001b[39m\u001b[38;5;241m.\u001b[39mbuffer \u001b[38;5;241m+\u001b[39m \u001b[38;5;28minput\u001b[39m\n\u001b[0;32m--> 322\u001b[0m     (result, consumed) \u001b[38;5;241m=\u001b[39m \u001b[38;5;28;43mself\u001b[39;49m\u001b[38;5;241;43m.\u001b[39;49m\u001b[43m_buffer_decode\u001b[49m\u001b[43m(\u001b[49m\u001b[43mdata\u001b[49m\u001b[43m,\u001b[49m\u001b[43m \u001b[49m\u001b[38;5;28;43mself\u001b[39;49m\u001b[38;5;241;43m.\u001b[39;49m\u001b[43merrors\u001b[49m\u001b[43m,\u001b[49m\u001b[43m \u001b[49m\u001b[43mfinal\u001b[49m\u001b[43m)\u001b[49m\n\u001b[1;32m    323\u001b[0m     \u001b[38;5;66;03m# keep undecoded input until the next call\u001b[39;00m\n\u001b[1;32m    324\u001b[0m     \u001b[38;5;28mself\u001b[39m\u001b[38;5;241m.\u001b[39mbuffer \u001b[38;5;241m=\u001b[39m data[consumed:]\n",
      "\u001b[0;31mUnicodeDecodeError\u001b[0m: 'utf-8' codec can't decode byte 0xe2 in position 10: invalid continuation byte"
     ]
    }
   ],
   "source": [
    "# Read a file and summarize it\n",
    "with open(\"/Users/ntnmathur/Library/CloudStorage/OneDrive-Personal/Books/Sri_Aurbindo_Books/02CollectedPoems.pdf\", \"r\", ) as file:\n",
    "    text = file.read()"
   ]
  },
  {
   "cell_type": "code",
   "execution_count": 62,
   "id": "0f9fd8c3-7049-4398-a82f-0f2cf9a75b4f",
   "metadata": {},
   "outputs": [
    {
     "name": "stdout",
     "output_type": "stream",
     "text": [
      "The sky appears blue to us during the day due to a combination of factors, primarily involving the way our atmosphere scatters sunlight. Here's a simplified explanation:\n",
      "\n",
      "1. **Sunlight Composition**: The Sun emits light across all wavelengths, but it is most intense in the visible part of the spectrum (which includes red, orange, yellow, green, blue, indigo, and violet). These colors are all present in the sunlight that reaches us.\n",
      "\n",
      "2. **Scattering of Light**: When sunlight enters our atmosphere, it encounters tiny molecules of gases such as nitrogen and oxygen. Due to their smaller size compared to wavelengths of visible light, these molecules scatter shorter (blue) wavelengths more efficiently than longer (red) ones. This phenomenon is known as Rayleigh scattering, named after the British physicist Lord Rayleigh who first described it in the 19th century.\n",
      "\n",
      "3. **Color Perception**: The scattered blue light can travel in various directions, including upwards and out into space, or downwards to be seen by us on Earth. Since the sun's light is most intense when it's overhead (at noon), we see the scattered blue light all around us as the sky appears blue. This scattering effect means that during the day, our atmosphere acts like a giant diffuser for sunlight.\n",
      "\n",
      "4. **Color of Sky at Sunrise and Sunset**: At sunrise and sunset, the path through the atmosphere is longer, so more red light reaches us because it doesn't get scattered away like shorter wavelengths (like blue and violet). Thus, we often see warm colors during these times due to the increased presence of red light in our line of sight.\n",
      "\n",
      "5. **Night Sky**: At night, when the sun isn't shining directly on Earth, the sky can appear dark unless there's artificial light or moonlight present. The stars we see are essentially distant points of light that, like the Sun during the day, emit a wide spectrum of light. However, their individual brightness is too low for us to notice their colors in the same way as sunlight.\n",
      "\n",
      "So, to summarize, the sky appears blue because our atmosphere scatters sunlight more efficiently in shorter wavelengths (like blue and violet), making these colors visible to us on Earth during daylight hours when the sun's direct light is present.\n"
     ]
    }
   ],
   "source": [
    "import ollama\n",
    "response = ollama.chat(model='llama3.1', messages=[\n",
    "  {\n",
    "    'role': 'user',\n",
    "    'content': 'Why is the sky blue?',\n",
    "  },\n",
    "])\n",
    "print(response['message']['content'])"
   ]
  },
  {
   "cell_type": "code",
   "execution_count": 63,
   "id": "4ff4d16d-464a-4c10-bb0f-a61f71230ef8",
   "metadata": {},
   "outputs": [
    {
     "name": "stdout",
     "output_type": "stream",
     "text": [
      "The sky appears blue to us because of a phenomenon called scattering. When sunlight enters Earth's atmosphere, it encounters tiny molecules of gases such as nitrogen and oxygen. These molecules scatter the light in all directions, but they preferentially scatter shorter wavelengths (like blue and violet) more than longer wavelengths (like red). This is known as Rayleigh scattering.\n",
      "\n",
      "So, when you look up at the sky on a clear day, the blue light that's been scattered in all directions reaches your eyes from every direction, making the sky appear blue. The amount of blue you see can be affected by atmospheric conditions and time of day, but essentially, it's the scattering effect that makes the sky blue.\n",
      "\n",
      "Here's a simple way to remember this:\n",
      "\n",
      "1. **Short wavelengths (blue & violet)** are scattered more than long wavelengths (red).\n",
      "2. **Scattering** occurs when sunlight hits tiny molecules in Earth's atmosphere.\n",
      "3. **Blue light** is distributed in all directions by scattering, making the sky appear blue.\n",
      "\n",
      "This isn't just a visual phenomenon; it has scientific implications and has been crucial for understanding Earth's atmospheric conditions, particularly during solar eclipses where the scattered light from the sun can be observed as a reddish glow around the Moon."
     ]
    }
   ],
   "source": [
    "import ollama\n",
    "\n",
    "stream = ollama.chat(\n",
    "    model='llama3.1',\n",
    "    messages=[{'role': 'user', 'content': 'Why is the sky blue?'}],\n",
    "    stream=True,\n",
    ")\n",
    "\n",
    "for chunk in stream:\n",
    "  print(chunk['message']['content'], end='', flush=True)"
   ]
  },
  {
   "cell_type": "code",
   "execution_count": 64,
   "id": "44ff08be-c540-48e0-9423-e46df73c2356",
   "metadata": {},
   "outputs": [
    {
     "data": {
      "text/plain": [
       "{'models': [{'name': 'llama3.1:latest',\n",
       "   'model': 'llama3.1:latest',\n",
       "   'modified_at': '2024-07-23T15:46:17.08305355-07:00',\n",
       "   'size': 4661225025,\n",
       "   'digest': 'a23da2a8039594d39ca68c68ea1c0ccf9155889e8197f7d17dd2743a1aee3f14',\n",
       "   'details': {'parent_model': '',\n",
       "    'format': 'gguf',\n",
       "    'family': 'llama',\n",
       "    'families': ['llama'],\n",
       "    'parameter_size': '8.0B',\n",
       "    'quantization_level': 'Q4_0'}}]}"
      ]
     },
     "execution_count": 64,
     "metadata": {},
     "output_type": "execute_result"
    }
   ],
   "source": [
    "ollama.list()"
   ]
  },
  {
   "cell_type": "code",
   "execution_count": null,
   "id": "63464851-c48e-4799-b29f-8004decf6268",
   "metadata": {},
   "outputs": [],
   "source": []
  }
 ],
 "metadata": {
  "kernelspec": {
   "display_name": "Python 3 (ipykernel)",
   "language": "python",
   "name": "python3"
  },
  "language_info": {
   "codemirror_mode": {
    "name": "ipython",
    "version": 3
   },
   "file_extension": ".py",
   "mimetype": "text/x-python",
   "name": "python",
   "nbconvert_exporter": "python",
   "pygments_lexer": "ipython3",
   "version": "3.12.6"
  }
 },
 "nbformat": 4,
 "nbformat_minor": 5
}
