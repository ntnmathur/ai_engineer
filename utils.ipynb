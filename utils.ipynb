{
 "cells": [
  {
   "cell_type": "code",
   "execution_count": 6,
   "id": "37992337-da19-42ef-953a-dfc012bc456d",
   "metadata": {},
   "outputs": [
    {
     "name": "stdin",
     "output_type": "stream",
     "text": [
      "Enter the string you want to convert:  Prompt Engineering with Llama 2&3\n"
     ]
    },
    {
     "data": {
      "text/plain": [
       "'prompt_engineering_with_llama_2_3'"
      ]
     },
     "execution_count": 6,
     "metadata": {},
     "output_type": "execute_result"
    }
   ],
   "source": [
    "import re\n",
    "def convert_special_chars_to_underscores(input_str: str) -> str:\n",
    "    return re.sub(r'\\W', '_', input_str)\n",
    "\n",
    "# convert to lower case \n",
    "def convert_to_lower_case(input_str: str) -> str:\n",
    "    return convert_special_chars_to_underscores(input_str.lower().replace(\" \",\"_\")\n",
    "\n",
    "x = input(\"Enter the string you want to convert: \")\n",
    "convert_to_lower_case(x)"
   ]
  },
  {
   "cell_type": "code",
   "execution_count": null,
   "id": "5b583495-432b-4b56-aeea-cd25b430636a",
   "metadata": {},
   "outputs": [],
   "source": []
  }
 ],
 "metadata": {
  "kernelspec": {
   "display_name": "Python 3 (ipykernel)",
   "language": "python",
   "name": "python3"
  },
  "language_info": {
   "codemirror_mode": {
    "name": "ipython",
    "version": 3
   },
   "file_extension": ".py",
   "mimetype": "text/x-python",
   "name": "python",
   "nbconvert_exporter": "python",
   "pygments_lexer": "ipython3",
   "version": "3.12.6"
  }
 },
 "nbformat": 4,
 "nbformat_minor": 5
}
